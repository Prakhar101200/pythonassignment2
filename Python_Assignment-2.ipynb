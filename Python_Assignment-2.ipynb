{
 "cells": [
  {
   "cell_type": "markdown",
   "id": "8d7ab3bd",
   "metadata": {},
   "source": [
    "# Python Assignment - 2\n",
    "### Total - 30 marks"
   ]
  },
  {
   "cell_type": "markdown",
   "id": "6984940a",
   "metadata": {},
   "source": [
    "#### 1. Create a list of student and their subjects and then print the count of the subjects each student is having."
   ]
  },
  {
   "cell_type": "markdown",
   "id": "2167cbb2",
   "metadata": {},
   "source": [
    "Ex: List should be of the this format \n",
    " [('Justin', ['Math', 'CompSci']),\n",
    " ('Eden', ['CompSci', 'Accounting', 'Economics'])]\n",
    " \n",
    " and the output be like,\n",
    " \n",
    "Justin takes 2 subjects\n",
    "Eden takes 3 subjects"
   ]
  },
  {
   "cell_type": "code",
   "execution_count": 1,
   "id": "c7115c59",
   "metadata": {},
   "outputs": [
    {
     "name": "stdout",
     "output_type": "stream",
     "text": [
      "divyansh  takes: 2 subjects\n",
      "himanshu  takes: 3 subjects\n"
     ]
    }
   ],
   "source": [
    "# You can Code here for the above problem:\n",
    "classroom = [(\"divyansh\", ['maths', 'science']), (\"himanshu\", ['bio', 'english', 'science'])]\n",
    "for (students, sub) in classroom:\n",
    "    subject_count = len(sub)\n",
    "    print(students, \" \" 'takes:', subject_count, \"subjects\")"
   ]
  },
  {
   "cell_type": "markdown",
   "id": "44bb9ea8",
   "metadata": {},
   "source": [
    "#### 2. Count the total number of digits in a number (ex: A mobile number)"
   ]
  },
  {
   "cell_type": "markdown",
   "id": "1d2ab3cb",
   "metadata": {},
   "source": [
    "Ex:\n",
    "number be like some random mobile number,\n",
    "\n",
    "9848000000\n",
    "\n",
    "the count of the this should be 10"
   ]
  },
  {
   "cell_type": "code",
   "execution_count": 1,
   "id": "6f4b32fc",
   "metadata": {},
   "outputs": [],
   "source": [
    "# You can Code here for the above problem:\n",
    "def ph_no():\n",
    "    while True:\n",
    "        phone_number = input(\"enter your phone number: \")\n",
    "        if len(phone_number):\n",
    "            return phone_number\n",
    "        else:\n",
    "            print(\"enter your phone number:\", )"
   ]
  },
  {
   "cell_type": "code",
   "execution_count": 2,
   "id": "aece757e",
   "metadata": {},
   "outputs": [
    {
     "name": "stdout",
     "output_type": "stream",
     "text": [
      "enter your phone number: 9076739936\n",
      "the number of digits is: 10\n"
     ]
    }
   ],
   "source": [
    "phone_number = ph_no()\n",
    "num_count = len(phone_number)\n",
    "\n",
    "print(\"the number of digits is:\", num_count)"
   ]
  },
  {
   "cell_type": "markdown",
   "id": "3502e833",
   "metadata": {},
   "source": [
    "#### 3. Create a for loop that prompts the user for a skill 3 times, then print the appended skills."
   ]
  },
  {
   "cell_type": "code",
   "execution_count": 16,
   "id": "dd835b29",
   "metadata": {},
   "outputs": [
    {
     "name": "stdout",
     "output_type": "stream",
     "text": [
      "enter your skills:driving\n",
      "enter your skills:swimming\n",
      "enter your skills:running\n",
      "appended skills: ['driving', 'swimming', 'running']\n"
     ]
    }
   ],
   "source": [
    "# You can Code here for the above problem:\n",
    "skills = []\n",
    "for i in range(3):\n",
    "    enter_skills = input(\"enter your skills:\")\n",
    "    skills.append(enter_skills)\n",
    "print(\"appended skills:\", skills)"
   ]
  },
  {
   "cell_type": "markdown",
   "id": "309395ff",
   "metadata": {},
   "source": [
    "#### 4. Define your commercial computation program with hourly rate for usual timings and extra for overtime. Create a function called commercials_calculator which takes two parameters (hours and rate).\n",
    "\n",
    "Enter Hours: 45\n",
    "\n",
    "Enter Rate: 10\n",
    "\n",
    "Pay: 475.0"
   ]
  },
  {
   "cell_type": "code",
   "execution_count": 36,
   "id": "fe142f76",
   "metadata": {},
   "outputs": [
    {
     "name": "stdout",
     "output_type": "stream",
     "text": [
      "enter your working hour:34\n",
      "enter your houraly rate:400\n"
     ]
    }
   ],
   "source": [
    "# You can Code here for the above problem:\n",
    "def commercial_calculator(wrk_hr, pay):\n",
    "    regtrd_hours = 40\n",
    "    overtime_rate = pay * 2\n",
    "    if wrk_hr == regtrd_hours:\n",
    "        salary = wrk_hr * pay\n",
    "    else:\n",
    "        salary = regtrd_hours * pay\n",
    "        overtime_pay = (wrk_hr - regtrd_hours) * overtime_rate\n",
    "        total_sal = salary + overtime_pay\n",
    "    return total_sal\n",
    "wrk_hr =float(input(\"enter your working hour:\"))\n",
    "pay = float(input(\"enter your houraly rate:\"))\n",
    "    "
   ]
  },
  {
   "cell_type": "code",
   "execution_count": 37,
   "id": "48928dc7",
   "metadata": {},
   "outputs": [
    {
     "name": "stdout",
     "output_type": "stream",
     "text": [
      "The total salary is: 11200.0\n"
     ]
    }
   ],
   "source": [
    "total_sal = commercial_calculator(wrk_hr, pay)\n",
    "print(\"The total salary is:\", total_sal)"
   ]
  },
  {
   "cell_type": "code",
   "execution_count": null,
   "id": "795b29ee",
   "metadata": {},
   "outputs": [],
   "source": []
  }
 ],
 "metadata": {
  "kernelspec": {
   "display_name": "Python 3 (ipykernel)",
   "language": "python",
   "name": "python3"
  },
  "language_info": {
   "codemirror_mode": {
    "name": "ipython",
    "version": 3
   },
   "file_extension": ".py",
   "mimetype": "text/x-python",
   "name": "python",
   "nbconvert_exporter": "python",
   "pygments_lexer": "ipython3",
   "version": "3.11.4"
  }
 },
 "nbformat": 4,
 "nbformat_minor": 5
}
